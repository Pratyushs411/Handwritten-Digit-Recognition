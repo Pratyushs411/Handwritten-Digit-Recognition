{
 "cells": [
  {
   "cell_type": "code",
   "execution_count": null,
   "id": "d26fff09-3b30-47cc-a6ec-c16fd6635a5c",
   "metadata": {},
   "outputs": [
    {
     "name": "stderr",
     "output_type": "stream",
     "text": [
      "/opt/anaconda3/lib/python3.11/site-packages/sklearn/base.py:439: UserWarning: X does not have valid feature names, but SVC was fitted with feature names\n",
      "  warnings.warn(\n"
     ]
    },
    {
     "name": "stdout",
     "output_type": "stream",
     "text": [
      "Prediction: 3\n"
     ]
    },
    {
     "name": "stderr",
     "output_type": "stream",
     "text": [
      "/opt/anaconda3/lib/python3.11/site-packages/sklearn/base.py:439: UserWarning: X does not have valid feature names, but SVC was fitted with feature names\n",
      "  warnings.warn(\n"
     ]
    },
    {
     "name": "stdout",
     "output_type": "stream",
     "text": [
      "Prediction: 3\n"
     ]
    },
    {
     "name": "stderr",
     "output_type": "stream",
     "text": [
      "/opt/anaconda3/lib/python3.11/site-packages/sklearn/base.py:439: UserWarning: X does not have valid feature names, but SVC was fitted with feature names\n",
      "  warnings.warn(\n"
     ]
    },
    {
     "name": "stdout",
     "output_type": "stream",
     "text": [
      "Prediction: 3\n"
     ]
    },
    {
     "name": "stderr",
     "output_type": "stream",
     "text": [
      "/opt/anaconda3/lib/python3.11/site-packages/sklearn/base.py:439: UserWarning: X does not have valid feature names, but SVC was fitted with feature names\n",
      "  warnings.warn(\n"
     ]
    },
    {
     "name": "stdout",
     "output_type": "stream",
     "text": [
      "Prediction: 3\n"
     ]
    },
    {
     "name": "stderr",
     "output_type": "stream",
     "text": [
      "/opt/anaconda3/lib/python3.11/site-packages/sklearn/base.py:439: UserWarning: X does not have valid feature names, but SVC was fitted with feature names\n",
      "  warnings.warn(\n"
     ]
    },
    {
     "name": "stdout",
     "output_type": "stream",
     "text": [
      "Prediction: 3\n"
     ]
    }
   ],
   "source": [
    "import joblib\n",
    "import cv2\n",
    "import numpy as np\n",
    "import time\n",
    "import pyscreenshot as grabImg\n",
    "\n",
    "# Load the pre-trained model\n",
    "model = joblib.load(\"model/digit_classifier\")\n",
    "\n",
    "# Folder to save images\n",
    "images_folder = \"img/\"\n",
    "\n",
    "while True:\n",
    "    # Grab screenshot and save it\n",
    "    img = grabImg.grab(bbox=(60, 170, 400, 550))\n",
    "    img.save(images_folder + \"img.png\")\n",
    "    \n",
    "    # Read and preprocess the image\n",
    "    im = cv2.imread(images_folder + \"img.png\")\n",
    "    im_grey = cv2.cvtColor(im, cv2.COLOR_BGR2GRAY)\n",
    "    im_grey = cv2.GaussianBlur(im_grey, (15, 15), 0)\n",
    "    ret, im_th = cv2.threshold(im_grey, 100, 255, cv2.THRESH_BINARY)\n",
    "    roi = cv2.resize(im_th, (28, 28), interpolation=cv2.INTER_AREA)\n",
    "    \n",
    "    # Flatten the ROI to prepare for prediction\n",
    "    x = roi.flatten()\n",
    "    \n",
    "    # Make predictions\n",
    "    predictions = model.predict([x])\n",
    "    print(\"Prediction:\", predictions[0])\n",
    "    \n",
    "    # Draw prediction text on the image\n",
    "    cv2.putText(im, \"Prediction is \" + str(predictions[0]), (20, 20), 0, 0.8, (0, 255, 0), 2, cv2.LINE_AA)\n",
    "    \n",
    "    # Display the result image\n",
    "    cv2.imshow(\"Result\", im)\n",
    "    \n",
    "    # Wait for a key press (10 seconds) or until Enter is pressed to exit\n",
    "    key = cv2.waitKey(10000)\n",
    "    if key == 13:  # 13 is the Enter key\n",
    "        break\n",
    "    \n",
    "# Clean up windows and threads\n",
    "cv2.destroyAllWindows()\n",
    "\n",
    "        "
   ]
  },
  {
   "cell_type": "code",
   "execution_count": null,
   "id": "a0fa39b0-5493-4db9-9b1e-b52f92eb5493",
   "metadata": {},
   "outputs": [],
   "source": [
    "cv2.destroyAllWindows()"
   ]
  },
  {
   "cell_type": "code",
   "execution_count": null,
   "id": "0622a19f-632e-455a-8a27-81b2f0d473f7",
   "metadata": {},
   "outputs": [],
   "source": []
  }
 ],
 "metadata": {
  "kernelspec": {
   "display_name": "Python 3 (ipykernel)",
   "language": "python",
   "name": "python3"
  },
  "language_info": {
   "codemirror_mode": {
    "name": "ipython",
    "version": 3
   },
   "file_extension": ".py",
   "mimetype": "text/x-python",
   "name": "python",
   "nbconvert_exporter": "python",
   "pygments_lexer": "ipython3",
   "version": "3.11.7"
  }
 },
 "nbformat": 4,
 "nbformat_minor": 5
}

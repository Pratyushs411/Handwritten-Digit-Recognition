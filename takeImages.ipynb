{
 "cells": [
  {
   "cell_type": "code",
   "execution_count": 2,
   "id": "945bef52-2774-4afd-9989-6f59955d58e5",
   "metadata": {},
   "outputs": [],
   "source": [
    "#handtext recognition using knn\n",
    "#install pyscreenshot\n",
    "import pyscreenshot as grabImg\n",
    "import time"
   ]
  },
  {
   "cell_type": "code",
   "execution_count": 14,
   "id": "ad5523f4-7851-45a4-a2a1-f9bf4075a148",
   "metadata": {
    "scrolled": true
   },
   "outputs": [
    {
     "name": "stdout",
     "output_type": "stream",
     "text": [
      "image saved... 16\n",
      "clear and redraw\n",
      "image saved... 17\n",
      "clear and redraw\n",
      "image saved... 18\n",
      "clear and redraw\n",
      "image saved... 19\n",
      "clear and redraw\n",
      "image saved... 20\n",
      "clear and redraw\n",
      "image saved... 21\n",
      "clear and redraw\n",
      "image saved... 22\n",
      "clear and redraw\n",
      "image saved... 23\n",
      "clear and redraw\n",
      "image saved... 24\n",
      "clear and redraw\n",
      "image saved... 25\n",
      "clear and redraw\n",
      "image saved... 26\n",
      "clear and redraw\n",
      "image saved... 27\n",
      "clear and redraw\n",
      "image saved... 28\n",
      "clear and redraw\n",
      "image saved... 29\n",
      "clear and redraw\n",
      "image saved... 30\n",
      "clear and redraw\n",
      "image saved... 31\n",
      "clear and redraw\n",
      "image saved... 32\n",
      "clear and redraw\n",
      "image saved... 33\n",
      "clear and redraw\n",
      "image saved... 34\n",
      "clear and redraw\n",
      "image saved... 35\n",
      "clear and redraw\n",
      "image saved... 36\n",
      "clear and redraw\n",
      "image saved... 37\n",
      "clear and redraw\n",
      "image saved... 38\n",
      "clear and redraw\n",
      "image saved... 39\n",
      "clear and redraw\n",
      "image saved... 40\n",
      "clear and redraw\n",
      "image saved... 41\n",
      "clear and redraw\n",
      "image saved... 42\n",
      "clear and redraw\n",
      "image saved... 43\n",
      "clear and redraw\n",
      "image saved... 44\n",
      "clear and redraw\n",
      "image saved... 45\n",
      "clear and redraw\n",
      "image saved... 46\n",
      "clear and redraw\n",
      "image saved... 47\n",
      "clear and redraw\n",
      "image saved... 48\n",
      "clear and redraw\n",
      "image saved... 49\n",
      "clear and redraw\n"
     ]
    }
   ],
   "source": [
    "#images for 0\n",
    "images_folder = \"capturedImages/0/\"\n",
    "for i in range(0,50):\n",
    "    time.sleep(8)\n",
    "    im = grabImg.grab(bbox=(60,170,400,550))\n",
    "    print(\"image saved...\",i)\n",
    "    im.save(images_folder+str(i)+'.png')\n",
    "    print(\"clear and redraw\")"
   ]
  },
  {
   "cell_type": "code",
   "execution_count": 12,
   "id": "19186e89-a1f0-471a-bc50-afcdb77d5b2d",
   "metadata": {},
   "outputs": [
    {
     "name": "stdout",
     "output_type": "stream",
     "text": [
      "image saved... 0\n",
      "clear and redraw\n",
      "image saved... 1\n",
      "clear and redraw\n",
      "image saved... 2\n",
      "clear and redraw\n"
     ]
    }
   ],
   "source": [
    "#images for 1\n",
    "images_folder = \"capturedImages/1/\"\n",
    "for i in range(0,50):\n",
    "    time.sleep(8)\n",
    "    im = grabImg.grab(bbox=(60,170,400,550))\n",
    "    print(\"image saved...\",i)\n",
    "    im.save(images_folder+str(i)+'.png')\n",
    "    print(\"clear and redraw\")"
   ]
  },
  {
   "cell_type": "code",
   "execution_count": 23,
   "id": "d3b21262-9cc0-4815-a113-d442958ad14e",
   "metadata": {},
   "outputs": [
    {
     "name": "stdout",
     "output_type": "stream",
     "text": [
      "image saved... 11\n",
      "clear and redraw\n",
      "image saved... 12\n",
      "clear and redraw\n",
      "image saved... 13\n",
      "clear and redraw\n",
      "image saved... 14\n",
      "clear and redraw\n",
      "image saved... 15\n",
      "clear and redraw\n"
     ]
    }
   ],
   "source": [
    "#images for 2\n",
    "images_folder = \"capturedImages/2/\"\n",
    "for i in range(0,50):\n",
    "    #time.sleep(8)\n",
    "    im = grabImg.grab(bbox=(60,170,400,550))\n",
    "    print(\"image saved...\",i)\n",
    "    im.save(images_folder+str(i)+'.png')\n",
    "    print(\"clear and redraw\")"
   ]
  },
  {
   "cell_type": "code",
   "execution_count": 24,
   "id": "ddb66b74-a98d-46d4-9d80-2b962a615428",
   "metadata": {},
   "outputs": [
    {
     "name": "stdout",
     "output_type": "stream",
     "text": [
      "image saved... 5\n",
      "clear and redraw\n",
      "image saved... 6\n",
      "clear and redraw\n",
      "image saved... 7\n",
      "clear and redraw\n",
      "image saved... 8\n",
      "clear and redraw\n",
      "image saved... 9\n",
      "clear and redraw\n",
      "image saved... 10\n",
      "clear and redraw\n",
      "image saved... 11\n",
      "clear and redraw\n",
      "image saved... 12\n",
      "clear and redraw\n",
      "image saved... 13\n",
      "clear and redraw\n",
      "image saved... 14\n",
      "clear and redraw\n",
      "image saved... 15\n",
      "clear and redraw\n"
     ]
    }
   ],
   "source": [
    "#images for 3\n",
    "images_folder = \"capturedImages/3/\"\n",
    "for i in range(0,50):\n",
    "    time.sleep(8)\n",
    "    im = grabImg.grab(bbox=(60,170,400,550))\n",
    "    print(\"image saved...\",i)\n",
    "    im.save(images_folder+str(i)+'.png')\n",
    "    print(\"clear and redraw\")"
   ]
  },
  {
   "cell_type": "code",
   "execution_count": 25,
   "id": "1a9a3aa1-0c79-4166-b945-e5bc2206931b",
   "metadata": {},
   "outputs": [
    {
     "name": "stdout",
     "output_type": "stream",
     "text": [
      "image saved... 5\n",
      "clear and redraw\n",
      "image saved... 6\n",
      "clear and redraw\n",
      "image saved... 7\n",
      "clear and redraw\n",
      "image saved... 8\n",
      "clear and redraw\n",
      "image saved... 9\n",
      "clear and redraw\n",
      "image saved... 10\n",
      "clear and redraw\n",
      "image saved... 11\n",
      "clear and redraw\n",
      "image saved... 12\n",
      "clear and redraw\n",
      "image saved... 13\n",
      "clear and redraw\n",
      "image saved... 14\n",
      "clear and redraw\n",
      "image saved... 15\n",
      "clear and redraw\n"
     ]
    }
   ],
   "source": [
    "#images for 4\n",
    "images_folder = \"capturedImages/4/\"\n",
    "for i in range(0,50):\n",
    "    time.sleep(8)\n",
    "    im = grabImg.grab(bbox=(60,170,400,550))\n",
    "    print(\"image saved...\",i)\n",
    "    im.save(images_folder+str(i)+'.png')\n",
    "    print(\"clear and redraw\")"
   ]
  },
  {
   "cell_type": "code",
   "execution_count": 26,
   "id": "b6c7116f-60c0-4980-8ad6-b57d38b57938",
   "metadata": {},
   "outputs": [
    {
     "name": "stdout",
     "output_type": "stream",
     "text": [
      "image saved... 5\n",
      "clear and redraw\n",
      "image saved... 6\n",
      "clear and redraw\n",
      "image saved... 7\n",
      "clear and redraw\n",
      "image saved... 8\n",
      "clear and redraw\n",
      "image saved... 9\n",
      "clear and redraw\n",
      "image saved... 10\n",
      "clear and redraw\n",
      "image saved... 11\n",
      "clear and redraw\n",
      "image saved... 12\n",
      "clear and redraw\n",
      "image saved... 13\n",
      "clear and redraw\n",
      "image saved... 14\n",
      "clear and redraw\n",
      "image saved... 15\n",
      "clear and redraw\n"
     ]
    }
   ],
   "source": [
    "#images for 5\n",
    "images_folder = \"capturedImages/5/\"\n",
    "for i in range(0,50):\n",
    "    time.sleep(8)\n",
    "    im = grabImg.grab(bbox=(60,170,400,550))\n",
    "    print(\"image saved...\",i)\n",
    "    im.save(images_folder+str(i)+'.png')\n",
    "    print(\"clear and redraw\")"
   ]
  },
  {
   "cell_type": "code",
   "execution_count": 27,
   "id": "0582cc28-9643-4aa4-a38b-209de7f8f6cb",
   "metadata": {},
   "outputs": [
    {
     "name": "stdout",
     "output_type": "stream",
     "text": [
      "image saved... 5\n",
      "clear and redraw\n",
      "image saved... 6\n",
      "clear and redraw\n",
      "image saved... 7\n",
      "clear and redraw\n",
      "image saved... 8\n",
      "clear and redraw\n",
      "image saved... 9\n",
      "clear and redraw\n",
      "image saved... 10\n",
      "clear and redraw\n",
      "image saved... 11\n",
      "clear and redraw\n",
      "image saved... 12\n",
      "clear and redraw\n",
      "image saved... 13\n",
      "clear and redraw\n",
      "image saved... 14\n",
      "clear and redraw\n",
      "image saved... 15\n",
      "clear and redraw\n"
     ]
    }
   ],
   "source": [
    "#images for 6\n",
    "images_folder = \"capturedImages/6/\"\n",
    "for i in range(0,50):\n",
    "    time.sleep(8)\n",
    "    im = grabImg.grab(bbox=(60,170,400,550))\n",
    "    print(\"image saved...\",i)\n",
    "    im.save(images_folder+str(i)+'.png')\n",
    "    print(\"clear and redraw\")"
   ]
  },
  {
   "cell_type": "code",
   "execution_count": 28,
   "id": "ba7ee7a1-3f56-471e-97cd-8f30c25495f6",
   "metadata": {},
   "outputs": [
    {
     "name": "stdout",
     "output_type": "stream",
     "text": [
      "image saved... 5\n",
      "clear and redraw\n",
      "image saved... 6\n",
      "clear and redraw\n",
      "image saved... 7\n",
      "clear and redraw\n",
      "image saved... 8\n",
      "clear and redraw\n",
      "image saved... 9\n",
      "clear and redraw\n",
      "image saved... 10\n",
      "clear and redraw\n",
      "image saved... 11\n",
      "clear and redraw\n",
      "image saved... 12\n",
      "clear and redraw\n",
      "image saved... 13\n",
      "clear and redraw\n",
      "image saved... 14\n",
      "clear and redraw\n",
      "image saved... 15\n",
      "clear and redraw\n"
     ]
    }
   ],
   "source": [
    "#images for 7\n",
    "images_folder = \"capturedImages/7/\"\n",
    "for i in range(0,50):\n",
    "    time.sleep(8)\n",
    "    im = grabImg.grab(bbox=(60,170,400,550))\n",
    "    print(\"image saved...\",i)\n",
    "    im.save(images_folder+str(i)+'.png')\n",
    "    print(\"clear and redraw\")"
   ]
  },
  {
   "cell_type": "code",
   "execution_count": 29,
   "id": "c6865d67-d0c4-4c61-b06d-a0f558e4226f",
   "metadata": {},
   "outputs": [
    {
     "name": "stdout",
     "output_type": "stream",
     "text": [
      "image saved... 5\n",
      "clear and redraw\n",
      "image saved... 6\n",
      "clear and redraw\n",
      "image saved... 7\n",
      "clear and redraw\n",
      "image saved... 8\n",
      "clear and redraw\n",
      "image saved... 9\n",
      "clear and redraw\n",
      "image saved... 10\n",
      "clear and redraw\n",
      "image saved... 11\n",
      "clear and redraw\n",
      "image saved... 12\n",
      "clear and redraw\n",
      "image saved... 13\n",
      "clear and redraw\n",
      "image saved... 14\n",
      "clear and redraw\n",
      "image saved... 15\n",
      "clear and redraw\n"
     ]
    }
   ],
   "source": [
    "#images for 8\n",
    "images_folder = \"capturedImages/8/\"\n",
    "for i in range(0,50):\n",
    "    time.sleep(8)\n",
    "    im = grabImg.grab(bbox=(60,170,400,550))\n",
    "    print(\"image saved...\",i)\n",
    "    im.save(images_folder+str(i)+'.png')\n",
    "    print(\"clear and redraw\")"
   ]
  },
  {
   "cell_type": "code",
   "execution_count": 30,
   "id": "1201ceec-0a1d-481c-a01c-3a3deeeb8b15",
   "metadata": {},
   "outputs": [
    {
     "name": "stdout",
     "output_type": "stream",
     "text": [
      "image saved... 5\n",
      "clear and redraw\n",
      "image saved... 6\n",
      "clear and redraw\n",
      "image saved... 7\n",
      "clear and redraw\n",
      "image saved... 8\n",
      "clear and redraw\n",
      "image saved... 9\n",
      "clear and redraw\n",
      "image saved... 10\n",
      "clear and redraw\n",
      "image saved... 11\n",
      "clear and redraw\n",
      "image saved... 12\n",
      "clear and redraw\n",
      "image saved... 13\n",
      "clear and redraw\n",
      "image saved... 14\n",
      "clear and redraw\n",
      "image saved... 15\n",
      "clear and redraw\n"
     ]
    }
   ],
   "source": [
    "#images for 9\n",
    "images_folder = \"capturedImages/9/\"\n",
    "for i in range(0,50):\n",
    "    time.sleep(8)\n",
    "    im = grabImg.grab(bbox=(60,170,400,550))\n",
    "    print(\"image saved...\",i)\n",
    "    im.save(images_folder+str(i)+'.png')\n",
    "    print(\"clear and redraw\")"
   ]
  },
  {
   "cell_type": "code",
   "execution_count": null,
   "id": "f80af306-bd2e-4548-9b45-84d8024eb15b",
   "metadata": {},
   "outputs": [],
   "source": []
  }
 ],
 "metadata": {
  "kernelspec": {
   "display_name": "Python 3 (ipykernel)",
   "language": "python",
   "name": "python3"
  },
  "language_info": {
   "codemirror_mode": {
    "name": "ipython",
    "version": 3
   },
   "file_extension": ".py",
   "mimetype": "text/x-python",
   "name": "python",
   "nbconvert_exporter": "python",
   "pygments_lexer": "ipython3",
   "version": "3.11.7"
  }
 },
 "nbformat": 4,
 "nbformat_minor": 5
}

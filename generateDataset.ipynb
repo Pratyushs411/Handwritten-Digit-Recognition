{
 "cells": [
  {
   "cell_type": "code",
   "execution_count": 1,
   "id": "a2b7cbaa-0bbf-4fad-b366-da710fa299e4",
   "metadata": {},
   "outputs": [],
   "source": [
    "#generate data set\n",
    "#install opencv-python\n",
    "import cv2\n",
    "import csv\n",
    "import glob\n",
    "\n",
    "header = [\"label\"]\n",
    "for i in range(784):\n",
    "    header.append(\"pixel\" + str(i))\n",
    "\n",
    "with open('dataset.csv', 'a', newline='') as f:\n",
    "    writer = csv.writer(f)\n",
    "    writer.writerow(header)\n",
    "\n",
    "for label in range(10):\n",
    "    dirList = glob.glob(\"capturedImages/\" + str(label) + \"/*.png\")\n",
    "    for image_path in dirList:\n",
    "        im = cv2.imread(image_path)\n",
    "        im_grey = cv2.cvtColor(im, cv2.COLOR_BGR2GRAY)\n",
    "        im_grey = cv2.GaussianBlur(im_grey, (15, 15), 0)\n",
    "        roi = cv2.resize(im_grey, (28, 28), interpolation=cv2.INTER_AREA)\n",
    "        data = [label]\n",
    "        rows, cols = roi.shape\n",
    "        for i in range(rows):\n",
    "            for j in range(cols):\n",
    "                k = roi[i, j]\n",
    "                if k > 100:\n",
    "                    k = 1\n",
    "                else:\n",
    "                    k = 0\n",
    "                data.append(k)\n",
    "        with open('dataset.csv', 'a', newline='') as f:\n",
    "            writer = csv.writer(f)\n",
    "            writer.writerow(data)\n"
   ]
  },
  {
   "cell_type": "code",
   "execution_count": null,
   "id": "0983e246-c4b7-47ce-b968-a10e709eb133",
   "metadata": {},
   "outputs": [],
   "source": []
  }
 ],
 "metadata": {
  "kernelspec": {
   "display_name": "Python 3 (ipykernel)",
   "language": "python",
   "name": "python3"
  },
  "language_info": {
   "codemirror_mode": {
    "name": "ipython",
    "version": 3
   },
   "file_extension": ".py",
   "mimetype": "text/x-python",
   "name": "python",
   "nbconvert_exporter": "python",
   "pygments_lexer": "ipython3",
   "version": "3.11.7"
  }
 },
 "nbformat": 4,
 "nbformat_minor": 5
}
